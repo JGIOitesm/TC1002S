{
 "cells": [
  {
   "cell_type": "markdown",
   "id": "1d3455fe",
   "metadata": {},
   "source": [
    "Carga de datos"
   ]
  },
  {
   "cell_type": "markdown",
   "id": "88ffc33f",
   "metadata": {},
   "source": [
    "## Sección de Python\n"
   ]
  },
  {
   "cell_type": "code",
   "execution_count": 1,
   "id": "8a1bdc90",
   "metadata": {},
   "outputs": [
    {
     "name": "stdout",
     "output_type": "stream",
     "text": [
      "<_io.TextIOWrapper name='avocado.csv' mode='r' encoding='cp1252'>\n"
     ]
    }
   ],
   "source": [
    "import csv \n",
    "aguacaton = open('avocado.csv', 'r')\n",
    "print (aguacaton)"
   ]
  },
  {
   "cell_type": "markdown",
   "id": "068d097b",
   "metadata": {},
   "source": [
    "## Sección de Pandas"
   ]
  },
  {
   "cell_type": "markdown",
   "id": "0c36e3ee",
   "metadata": {},
   "source": [
    "### 1-Importa pandas.\n",
    "### 2-Lee el archivo .csv usando la función read_csv."
   ]
  },
  {
   "cell_type": "code",
   "execution_count": 2,
   "id": "cee57dfb",
   "metadata": {
    "scrolled": true
   },
   "outputs": [
    {
     "name": "stdout",
     "output_type": "stream",
     "text": [
      "       Unnamed: 0        Date  AveragePrice  Total Volume     4046       4225  \\\n",
      "0               0  2015-12-27          1.33      64236.62  1036.74   54454.85   \n",
      "1               1  2015-12-20          1.35      54876.98   674.28   44638.81   \n",
      "2               2  2015-12-13          0.93     118220.22   794.70  109149.67   \n",
      "3               3  2015-12-06          1.08      78992.15  1132.00   71976.41   \n",
      "4               4  2015-11-29          1.28      51039.60   941.48   43838.39   \n",
      "...           ...         ...           ...           ...      ...        ...   \n",
      "18244           7  2018-02-04          1.63      17074.83  2046.96    1529.20   \n",
      "18245           8  2018-01-28          1.71      13888.04  1191.70    3431.50   \n",
      "18246           9  2018-01-21          1.87      13766.76  1191.92    2452.79   \n",
      "18247          10  2018-01-14          1.93      16205.22  1527.63    2981.04   \n",
      "18248          11  2018-01-07          1.62      17489.58  2894.77    2356.13   \n",
      "\n",
      "         4770  Total Bags  Small Bags  Large Bags  XLarge Bags          type  \\\n",
      "0       48.16     8696.87     8603.62       93.25          0.0  conventional   \n",
      "1       58.33     9505.56     9408.07       97.49          0.0  conventional   \n",
      "2      130.50     8145.35     8042.21      103.14          0.0  conventional   \n",
      "3       72.58     5811.16     5677.40      133.76          0.0  conventional   \n",
      "4       75.78     6183.95     5986.26      197.69          0.0  conventional   \n",
      "...       ...         ...         ...         ...          ...           ...   \n",
      "18244    0.00    13498.67    13066.82      431.85          0.0       organic   \n",
      "18245    0.00     9264.84     8940.04      324.80          0.0       organic   \n",
      "18246  727.94     9394.11     9351.80       42.31          0.0       organic   \n",
      "18247  727.01    10969.54    10919.54       50.00          0.0       organic   \n",
      "18248  224.53    12014.15    11988.14       26.01          0.0       organic   \n",
      "\n",
      "       year            region  \n",
      "0      2015            Albany  \n",
      "1      2015            Albany  \n",
      "2      2015            Albany  \n",
      "3      2015            Albany  \n",
      "4      2015            Albany  \n",
      "...     ...               ...  \n",
      "18244  2018  WestTexNewMexico  \n",
      "18245  2018  WestTexNewMexico  \n",
      "18246  2018  WestTexNewMexico  \n",
      "18247  2018  WestTexNewMexico  \n",
      "18248  2018  WestTexNewMexico  \n",
      "\n",
      "[18249 rows x 14 columns]\n"
     ]
    }
   ],
   "source": [
    "import pandas\n",
    "paa = pandas.read_csv('avocado.csv')\n",
    "print (paa)"
   ]
  },
  {
   "cell_type": "markdown",
   "id": "c6f22517",
   "metadata": {},
   "source": [
    "### 3 - Observa las primeras líneas usando la función head.\n",
    "### 4 - Obtén diferentes combinaciones de columnas y datos."
   ]
  },
  {
   "cell_type": "code",
   "execution_count": 3,
   "id": "fc9c2438",
   "metadata": {
    "scrolled": true
   },
   "outputs": [
    {
     "name": "stdout",
     "output_type": "stream",
     "text": [
      "    Unnamed: 0        Date  AveragePrice  Total Volume     4046       4225  \\\n",
      "0            0  2015-12-27          1.33      64236.62  1036.74   54454.85   \n",
      "1            1  2015-12-20          1.35      54876.98   674.28   44638.81   \n",
      "2            2  2015-12-13          0.93     118220.22   794.70  109149.67   \n",
      "3            3  2015-12-06          1.08      78992.15  1132.00   71976.41   \n",
      "4            4  2015-11-29          1.28      51039.60   941.48   43838.39   \n",
      "5            5  2015-11-22          1.26      55979.78  1184.27   48067.99   \n",
      "6            6  2015-11-15          0.99      83453.76  1368.92   73672.72   \n",
      "7            7  2015-11-08          0.98     109428.33   703.75  101815.36   \n",
      "8            8  2015-11-01          1.02      99811.42  1022.15   87315.57   \n",
      "9            9  2015-10-25          1.07      74338.76   842.40   64757.44   \n",
      "10          10  2015-10-18          1.12      84843.44   924.86   75595.85   \n",
      "11          11  2015-10-11          1.28      64489.17  1582.03   52677.92   \n",
      "12          12  2015-10-04          1.31      61007.10  2268.32   49880.67   \n",
      "13          13  2015-09-27          0.99     106803.39  1204.88   99409.21   \n",
      "\n",
      "      4770  Total Bags  Small Bags  Large Bags  XLarge Bags          type  \\\n",
      "0    48.16     8696.87     8603.62       93.25          0.0  conventional   \n",
      "1    58.33     9505.56     9408.07       97.49          0.0  conventional   \n",
      "2   130.50     8145.35     8042.21      103.14          0.0  conventional   \n",
      "3    72.58     5811.16     5677.40      133.76          0.0  conventional   \n",
      "4    75.78     6183.95     5986.26      197.69          0.0  conventional   \n",
      "5    43.61     6683.91     6556.47      127.44          0.0  conventional   \n",
      "6    93.26     8318.86     8196.81      122.05          0.0  conventional   \n",
      "7    80.00     6829.22     6266.85      562.37          0.0  conventional   \n",
      "8    85.34    11388.36    11104.53      283.83          0.0  conventional   \n",
      "9   113.00     8625.92     8061.47      564.45          0.0  conventional   \n",
      "10  117.07     8205.66     7877.86      327.80          0.0  conventional   \n",
      "11  105.32    10123.90     9866.27      257.63          0.0  conventional   \n",
      "12  101.36     8756.75     8379.98      376.77          0.0  conventional   \n",
      "13  154.84     6034.46     5888.87      145.59          0.0  conventional   \n",
      "\n",
      "    year  region  \n",
      "0   2015  Albany  \n",
      "1   2015  Albany  \n",
      "2   2015  Albany  \n",
      "3   2015  Albany  \n",
      "4   2015  Albany  \n",
      "5   2015  Albany  \n",
      "6   2015  Albany  \n",
      "7   2015  Albany  \n",
      "8   2015  Albany  \n",
      "9   2015  Albany  \n",
      "10  2015  Albany  \n",
      "11  2015  Albany  \n",
      "12  2015  Albany  \n",
      "13  2015  Albany  \n",
      "       Unnamed: 0        Date  AveragePrice  Total Volume      4046      4225  \\\n",
      "18235          10  2018-01-14          1.82     207999.67  33869.12  47435.14   \n",
      "18236          11  2018-01-07          1.48     297190.60  34734.97  62967.74   \n",
      "18237           0  2018-03-25          1.62      15303.40   2325.30   2171.66   \n",
      "18238           1  2018-03-18          1.56      15896.38   2055.35   1499.55   \n",
      "18239           2  2018-03-11          1.56      22128.42   2162.67   3194.25   \n",
      "18240           3  2018-03-04          1.54      17393.30   1832.24   1905.57   \n",
      "18241           4  2018-02-25          1.57      18421.24   1974.26   2482.65   \n",
      "18242           5  2018-02-18          1.56      17597.12   1892.05   1928.36   \n",
      "18243           6  2018-02-11          1.57      15986.17   1924.28   1368.32   \n",
      "18244           7  2018-02-04          1.63      17074.83   2046.96   1529.20   \n",
      "18245           8  2018-01-28          1.71      13888.04   1191.70   3431.50   \n",
      "18246           9  2018-01-21          1.87      13766.76   1191.92   2452.79   \n",
      "18247          10  2018-01-14          1.93      16205.22   1527.63   2981.04   \n",
      "18248          11  2018-01-07          1.62      17489.58   2894.77   2356.13   \n",
      "\n",
      "         4770  Total Bags  Small Bags  Large Bags  XLarge Bags     type  year  \\\n",
      "18235  433.52   126261.89    89115.78    37133.99        12.12  organic  2018   \n",
      "18236  157.77   199330.12   103761.55    95544.39        24.18  organic  2018   \n",
      "18237    0.00    10806.44    10569.80      236.64         0.00  organic  2018   \n",
      "18238    0.00    12341.48    12114.81      226.67         0.00  organic  2018   \n",
      "18239    8.93    16762.57    16510.32      252.25         0.00  organic  2018   \n",
      "18240    0.00    13655.49    13401.93      253.56         0.00  organic  2018   \n",
      "18241    0.00    13964.33    13698.27      266.06         0.00  organic  2018   \n",
      "18242    0.00    13776.71    13553.53      223.18         0.00  organic  2018   \n",
      "18243    0.00    12693.57    12437.35      256.22         0.00  organic  2018   \n",
      "18244    0.00    13498.67    13066.82      431.85         0.00  organic  2018   \n",
      "18245    0.00     9264.84     8940.04      324.80         0.00  organic  2018   \n",
      "18246  727.94     9394.11     9351.80       42.31         0.00  organic  2018   \n",
      "18247  727.01    10969.54    10919.54       50.00         0.00  organic  2018   \n",
      "18248  224.53    12014.15    11988.14       26.01         0.00  organic  2018   \n",
      "\n",
      "                 region  \n",
      "18235              West  \n",
      "18236              West  \n",
      "18237  WestTexNewMexico  \n",
      "18238  WestTexNewMexico  \n",
      "18239  WestTexNewMexico  \n",
      "18240  WestTexNewMexico  \n",
      "18241  WestTexNewMexico  \n",
      "18242  WestTexNewMexico  \n",
      "18243  WestTexNewMexico  \n",
      "18244  WestTexNewMexico  \n",
      "18245  WestTexNewMexico  \n",
      "18246  WestTexNewMexico  \n",
      "18247  WestTexNewMexico  \n",
      "18248  WestTexNewMexico  \n"
     ]
    }
   ],
   "source": [
    "paa = pandas.read_csv('avocado.csv')\n",
    "headpaa = paa.head(14)\n",
    "print (headpaa)\n",
    "tailpaa = paa.tail(14)\n",
    "print(tailpaa)\n"
   ]
  },
  {
   "cell_type": "markdown",
   "id": "6108244c",
   "metadata": {},
   "source": [
    "### 5 - Revisa los datos obtenidos por la función  describe.\n",
    "### 6 - Responde las preguntas de la sección anterior."
   ]
  },
  {
   "cell_type": "code",
   "execution_count": 4,
   "id": "b327c2d9",
   "metadata": {
    "scrolled": true
   },
   "outputs": [
    {
     "name": "stdout",
     "output_type": "stream",
     "text": [
      "         Unnamed: 0  AveragePrice  Total Volume          4046          4225  \\\n",
      "count  18249.000000  18249.000000  1.824900e+04  1.824900e+04  1.824900e+04   \n",
      "mean      24.232232      1.405978  8.506440e+05  2.930084e+05  2.951546e+05   \n",
      "std       15.481045      0.402677  3.453545e+06  1.264989e+06  1.204120e+06   \n",
      "min        0.000000      0.440000  8.456000e+01  0.000000e+00  0.000000e+00   \n",
      "25%       10.000000      1.100000  1.083858e+04  8.540700e+02  3.008780e+03   \n",
      "50%       24.000000      1.370000  1.073768e+05  8.645300e+03  2.906102e+04   \n",
      "75%       38.000000      1.660000  4.329623e+05  1.110202e+05  1.502069e+05   \n",
      "max       52.000000      3.250000  6.250565e+07  2.274362e+07  2.047057e+07   \n",
      "\n",
      "               4770    Total Bags    Small Bags    Large Bags    XLarge Bags  \\\n",
      "count  1.824900e+04  1.824900e+04  1.824900e+04  1.824900e+04   18249.000000   \n",
      "mean   2.283974e+04  2.396392e+05  1.821947e+05  5.433809e+04    3106.426507   \n",
      "std    1.074641e+05  9.862424e+05  7.461785e+05  2.439660e+05   17692.894652   \n",
      "min    0.000000e+00  0.000000e+00  0.000000e+00  0.000000e+00       0.000000   \n",
      "25%    0.000000e+00  5.088640e+03  2.849420e+03  1.274700e+02       0.000000   \n",
      "50%    1.849900e+02  3.974383e+04  2.636282e+04  2.647710e+03       0.000000   \n",
      "75%    6.243420e+03  1.107834e+05  8.333767e+04  2.202925e+04     132.500000   \n",
      "max    2.546439e+06  1.937313e+07  1.338459e+07  5.719097e+06  551693.650000   \n",
      "\n",
      "               year  \n",
      "count  18249.000000  \n",
      "mean    2016.147899  \n",
      "std        0.939938  \n",
      "min     2015.000000  \n",
      "25%     2015.000000  \n",
      "50%     2016.000000  \n",
      "75%     2017.000000  \n",
      "max     2018.000000  \n"
     ]
    }
   ],
   "source": [
    "paa = pandas.read_csv('avocado.csv')\n",
    "despa = paa.describe()\n",
    "print (despa)"
   ]
  },
  {
   "cell_type": "markdown",
   "id": "02f2bc71",
   "metadata": {},
   "source": [
    "Como reto, intenta responder las siguientes preguntas utilizando código: ¿Cuántos objetos hay?"
   ]
  },
  {
   "cell_type": "code",
   "execution_count": 5,
   "id": "481d422e",
   "metadata": {
    "scrolled": true
   },
   "outputs": [
    {
     "name": "stdout",
     "output_type": "stream",
     "text": [
      "18249\n"
     ]
    }
   ],
   "source": [
    "print(len(paa.index))"
   ]
  },
  {
   "cell_type": "markdown",
   "id": "21ed0604",
   "metadata": {},
   "source": [
    "¿Cuál es el valor de la variable 2 del objeto 15?"
   ]
  },
  {
   "cell_type": "code",
   "execution_count": 6,
   "id": "89cc2d3f",
   "metadata": {},
   "outputs": [
    {
     "name": "stdout",
     "output_type": "stream",
     "text": [
      "1.28\n"
     ]
    }
   ],
   "source": [
    "print(paa.iloc[15,2])"
   ]
  },
  {
   "cell_type": "markdown",
   "id": "cefa10de",
   "metadata": {},
   "source": [
    "¿Cuál es el mínimo y máximo de la variable 3?"
   ]
  },
  {
   "cell_type": "code",
   "execution_count": 7,
   "id": "745a8e2d",
   "metadata": {},
   "outputs": [
    {
     "name": "stdout",
     "output_type": "stream",
     "text": [
      "84.56\n",
      "62505646.52\n"
     ]
    }
   ],
   "source": [
    "print(paa[\"Total Volume\"].min())\n",
    "print(paa[\"Total Volume\"].max())"
   ]
  }
 ],
 "metadata": {
  "kernelspec": {
   "display_name": "Python 3 (ipykernel)",
   "language": "python",
   "name": "python3"
  },
  "language_info": {
   "codemirror_mode": {
    "name": "ipython",
    "version": 3
   },
   "file_extension": ".py",
   "mimetype": "text/x-python",
   "name": "python",
   "nbconvert_exporter": "python",
   "pygments_lexer": "ipython3",
   "version": "3.9.12"
  }
 },
 "nbformat": 4,
 "nbformat_minor": 5
}
