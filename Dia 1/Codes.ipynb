{
 "cells": [
  {
   "cell_type": "markdown",
   "id": "b6127f05",
   "metadata": {},
   "source": [
    "Ejercicios con Python:\n",
    "\n",
    "1.\n",
    "Escribir una función de Python que encuentre los números primos en los primeros N números naturales.\n",
    "N es el argumento de la función\n",
    "Llamar la función desde el código principal"
   ]
  },
  {
   "cell_type": "code",
   "execution_count": 1,
   "id": "14f50b4c",
   "metadata": {},
   "outputs": [
    {
     "name": "stdout",
     "output_type": "stream",
     "text": [
      "2\n",
      "3\n",
      "5\n",
      "7\n",
      "11\n",
      "13\n",
      "17\n",
      "19\n",
      "23\n",
      "29\n",
      "31\n",
      "37\n",
      "41\n",
      "43\n",
      "47\n",
      "53\n",
      "59\n",
      "61\n",
      "67\n",
      "71\n"
     ]
    }
   ],
   "source": [
    "import math\n",
    "\n",
    "def func1(N):\n",
    "    counter = 1\n",
    "    while N > 0:\n",
    "        counter += 1\n",
    "        factors = []\n",
    "        if counter > 1:\n",
    "            for i in range(2, int(math.pow(counter,0.5)) + 1):\n",
    "                if (counter % i) == 0:\n",
    "                    factors.append(i)\n",
    "            if len(factors) == 0:\n",
    "                print(counter)\n",
    "                N -= 1\n",
    "\n",
    "func1(20)"
   ]
  },
  {
   "cell_type": "markdown",
   "id": "19428369",
   "metadata": {},
   "source": [
    "2.\n",
    "Escribir una función de Pyton que encuentre el producto cruz en vectores de 3 componentes.\n",
    "La función recibe dos listas (vectores)\n",
    "La función regresa un tercer vector (lista) con el resultado\n",
    "Llamar a la función desde el código principal"
   ]
  },
  {
   "cell_type": "code",
   "execution_count": 2,
   "id": "42e29bf5",
   "metadata": {},
   "outputs": [],
   "source": [
    "def func2(v1,v2):\n",
    "    v3 = []\n",
    "    v3.append(a[1]*b[2] - a[2]*b[1])\n",
    "    v3.append(a[2]*b[0] - a[0]*b[2])\n",
    "    v3.append(a[0]*b[1] - a[1]*b[0])\n",
    "    return v3"
   ]
  },
  {
   "cell_type": "code",
   "execution_count": 3,
   "id": "8eada07b",
   "metadata": {},
   "outputs": [
    {
     "name": "stdout",
     "output_type": "stream",
     "text": [
      "[-45, 40, -5]\n"
     ]
    }
   ],
   "source": [
    "a = [2, 3, 6]\n",
    "b = [7, 8, 1]\n",
    "\n",
    "print(func2(a,b))"
   ]
  },
  {
   "cell_type": "markdown",
   "id": "a7e3b989",
   "metadata": {},
   "source": [
    "3.Re-escribir el problema 2, pero ahora los vectores son leídos desde un archivo de texto."
   ]
  },
  {
   "cell_type": "code",
   "execution_count": 4,
   "id": "5f12c1fe",
   "metadata": {},
   "outputs": [
    {
     "name": "stdout",
     "output_type": "stream",
     "text": [
      "[3, 0, 0]\n",
      "[0, 3, 0]\n",
      "[0, 0, 9]\n"
     ]
    }
   ],
   "source": [
    "def strtoint(v):\n",
    "    for i in range(0, len(v)):\n",
    "        v[i] = int(v[i])\n",
    "    return v\n",
    " \n",
    "my_file = open('vectors.txt', 'r')\n",
    "data = my_file.read()\n",
    "data = data.split('\\n')\n",
    "a = strtoint(data[0].split(','))\n",
    "b = strtoint(data[1].split(','))\n",
    "\n",
    "print(a)\n",
    "print(b)\n",
    "print(func2(a,b))"
   ]
  }
 ],
 "metadata": {
  "kernelspec": {
   "display_name": "Python 3 (ipykernel)",
   "language": "python",
   "name": "python3"
  },
  "language_info": {
   "codemirror_mode": {
    "name": "ipython",
    "version": 3
   },
   "file_extension": ".py",
   "mimetype": "text/x-python",
   "name": "python",
   "nbconvert_exporter": "python",
   "pygments_lexer": "ipython3",
   "version": "3.9.12"
  }
 },
 "nbformat": 4,
 "nbformat_minor": 5
}
