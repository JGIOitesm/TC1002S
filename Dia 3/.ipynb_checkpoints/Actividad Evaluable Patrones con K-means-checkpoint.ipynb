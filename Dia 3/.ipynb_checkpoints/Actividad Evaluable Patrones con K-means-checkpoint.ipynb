{
 "cells": [
  {
   "cell_type": "markdown",
   "id": "4fa8c9c2",
   "metadata": {},
   "source": [
    "### Jorge Gerardo Iglesias Ortiz - A01653261\n",
    "### Alejandro Hernández De la Torre - A01651516\n",
    "### Santiago Orozco Quintero - A01658308\n",
    "### Carlos Andres Barredeaz Rios - A01653183\n",
    "### Jorge Yepez Frutos - A01652661"
   ]
  },
  {
   "cell_type": "markdown",
   "id": "8eeb2f12",
   "metadata": {},
   "source": [
    "# Actividad Evaluable Patrones con K-means"
   ]
  },
  {
   "cell_type": "markdown",
   "id": "012729fb",
   "metadata": {},
   "source": [
    "## 1. Carga tus datos."
   ]
  },
  {
   "cell_type": "code",
   "execution_count": 1,
   "id": "1f1465df",
   "metadata": {},
   "outputs": [],
   "source": [
    "import pandas as pd\n",
    "import numpy as np\n",
    "import matplotlib.pyplot as plt\n",
    "import seaborn as sb\n",
    "from sklearn.cluster import KMeans\n",
    "from sklearn.metrics import pairwise_distances_argmin_min\n",
    "\n",
    "df = pd.read_csv('avocado.csv')"
   ]
  },
  {
   "cell_type": "markdown",
   "id": "2e4391c0",
   "metadata": {},
   "source": [
    "## 2. Si determinas que alguna variable no sirve basándose en la actividad pasada, elimínala y justifica por qué quitaste o no variables."
   ]
  },
  {
   "cell_type": "code",
   "execution_count": 2,
   "id": "42e8abdd",
   "metadata": {},
   "outputs": [
    {
     "data": {
      "text/html": [
       "<div>\n",
       "<style scoped>\n",
       "    .dataframe tbody tr th:only-of-type {\n",
       "        vertical-align: middle;\n",
       "    }\n",
       "\n",
       "    .dataframe tbody tr th {\n",
       "        vertical-align: top;\n",
       "    }\n",
       "\n",
       "    .dataframe thead th {\n",
       "        text-align: right;\n",
       "    }\n",
       "</style>\n",
       "<table border=\"1\" class=\"dataframe\">\n",
       "  <thead>\n",
       "    <tr style=\"text-align: right;\">\n",
       "      <th></th>\n",
       "      <th>year</th>\n",
       "      <th>Date</th>\n",
       "    </tr>\n",
       "  </thead>\n",
       "  <tbody>\n",
       "    <tr>\n",
       "      <th>0</th>\n",
       "      <td>2015</td>\n",
       "      <td>2015-12-27</td>\n",
       "    </tr>\n",
       "    <tr>\n",
       "      <th>1</th>\n",
       "      <td>2015</td>\n",
       "      <td>2015-12-20</td>\n",
       "    </tr>\n",
       "    <tr>\n",
       "      <th>2</th>\n",
       "      <td>2015</td>\n",
       "      <td>2015-12-13</td>\n",
       "    </tr>\n",
       "    <tr>\n",
       "      <th>3</th>\n",
       "      <td>2015</td>\n",
       "      <td>2015-12-06</td>\n",
       "    </tr>\n",
       "    <tr>\n",
       "      <th>4</th>\n",
       "      <td>2015</td>\n",
       "      <td>2015-11-29</td>\n",
       "    </tr>\n",
       "    <tr>\n",
       "      <th>...</th>\n",
       "      <td>...</td>\n",
       "      <td>...</td>\n",
       "    </tr>\n",
       "    <tr>\n",
       "      <th>18244</th>\n",
       "      <td>2018</td>\n",
       "      <td>2018-02-04</td>\n",
       "    </tr>\n",
       "    <tr>\n",
       "      <th>18245</th>\n",
       "      <td>2018</td>\n",
       "      <td>2018-01-28</td>\n",
       "    </tr>\n",
       "    <tr>\n",
       "      <th>18246</th>\n",
       "      <td>2018</td>\n",
       "      <td>2018-01-21</td>\n",
       "    </tr>\n",
       "    <tr>\n",
       "      <th>18247</th>\n",
       "      <td>2018</td>\n",
       "      <td>2018-01-14</td>\n",
       "    </tr>\n",
       "    <tr>\n",
       "      <th>18248</th>\n",
       "      <td>2018</td>\n",
       "      <td>2018-01-07</td>\n",
       "    </tr>\n",
       "  </tbody>\n",
       "</table>\n",
       "<p>18249 rows × 2 columns</p>\n",
       "</div>"
      ],
      "text/plain": [
       "       year        Date\n",
       "0      2015  2015-12-27\n",
       "1      2015  2015-12-20\n",
       "2      2015  2015-12-13\n",
       "3      2015  2015-12-06\n",
       "4      2015  2015-11-29\n",
       "...     ...         ...\n",
       "18244  2018  2018-02-04\n",
       "18245  2018  2018-01-28\n",
       "18246  2018  2018-01-21\n",
       "18247  2018  2018-01-14\n",
       "18248  2018  2018-01-07\n",
       "\n",
       "[18249 rows x 2 columns]"
      ]
     },
     "execution_count": 2,
     "metadata": {},
     "output_type": "execute_result"
    }
   ],
   "source": [
    "df[[\"year\",\"Date\"]]"
   ]
  },
  {
   "cell_type": "markdown",
   "id": "81536bb3",
   "metadata": {},
   "source": [
    "Year, esta información ya puede apreciarse en el campo date"
   ]
  },
  {
   "cell_type": "markdown",
   "id": "85e70f47",
   "metadata": {},
   "source": [
    "## 3. Determina un valor de k."
   ]
  },
  {
   "cell_type": "code",
   "execution_count": null,
   "id": "bbb353de",
   "metadata": {},
   "outputs": [],
   "source": []
  },
  {
   "cell_type": "markdown",
   "id": "20f9c074",
   "metadata": {},
   "source": [
    "## 4. Utilizando scikitlearn calcula los centros del algoritmo k-means."
   ]
  },
  {
   "cell_type": "code",
   "execution_count": null,
   "id": "7f3051a9",
   "metadata": {},
   "outputs": [],
   "source": []
  },
  {
   "cell_type": "markdown",
   "id": "f5167e12",
   "metadata": {},
   "source": [
    "## Basado en los centros responde las siguientes preguntas:"
   ]
  },
  {
   "cell_type": "markdown",
   "id": "9e50f7bc",
   "metadata": {},
   "source": [
    "* ¿Crees que estos centros puedan ser representativos de los datos? ¿Por qué?\n",
    "\n",
    "Si porque de manera similar a como se hace con el diagrama de cajas nos muestra una tendencia en los datos para poder hacer inferencias sobre ellos basados en la proximidad con otro conjunto de valores\n",
    "\n",
    "* ¿Cómo obtuviste el valor de k a usar?\n",
    "\n",
    "\n",
    "\n",
    "* ¿Los centros serían más representativos si usaras un valor más alto? ¿Más bajo?\n",
    "\n",
    "\n",
    "\n",
    "* ¿Qué distancia tienen los centros entre sí? ¿Hay alguno que esté muy cercano a otros?\n",
    "\n",
    "\n",
    "\n",
    "* ¿Qué pasaría con los centros si tuviéramos muchos outliers en el análisis de cajas y bigotes?\n",
    "\n",
    "\n",
    "\n",
    "* ¿Qué puedes decir de los datos basándose en los centros?\n",
    "\n",
    "\n"
   ]
  }
 ],
 "metadata": {
  "kernelspec": {
   "display_name": "Python 3 (ipykernel)",
   "language": "python",
   "name": "python3"
  },
  "language_info": {
   "codemirror_mode": {
    "name": "ipython",
    "version": 3
   },
   "file_extension": ".py",
   "mimetype": "text/x-python",
   "name": "python",
   "nbconvert_exporter": "python",
   "pygments_lexer": "ipython3",
   "version": "3.9.12"
  }
 },
 "nbformat": 4,
 "nbformat_minor": 5
}
