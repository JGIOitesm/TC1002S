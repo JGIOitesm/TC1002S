{
 "cells": [
  {
   "cell_type": "markdown",
   "id": "c411bae5",
   "metadata": {},
   "source": [
    "### Jorge Gerardo Iglesias Ortiz - A01653261\n",
    "### Alejandro Hernández De la Torre - A01651516\n",
    "### Santiago Orozco Quintero - A01658308\n",
    "### Carlos Andres Barredeaz Rios - A01653183\n",
    "### Jorge Yepez Frutos - A01652661"
   ]
  },
  {
   "cell_type": "markdown",
   "id": "3ab66fe7",
   "metadata": {},
   "source": [
    "# Actividad Evaluable Patrones con K-means"
   ]
  },
  {
   "cell_type": "markdown",
   "id": "7730dcc4",
   "metadata": {},
   "source": [
    "## 1. Carga tus datos."
   ]
  },
  {
   "cell_type": "code",
   "execution_count": null,
   "id": "c9333a3a",
   "metadata": {},
   "outputs": [],
   "source": [
    "import pandas as pd\n",
    "import numpy as np\n",
    "import matplotlib.pyplot as plt\n",
    "import seaborn as sb\n",
    "from sklearn.cluster import KMeans\n",
    "from sklearn.metrics import pairwise_distances_argmin_min\n",
    "\n"
   ]
  },
  {
   "cell_type": "markdown",
   "id": "6ec35d77",
   "metadata": {},
   "source": [
    "## 2. Si determinas que alguna variable no sirve basándose en la actividad pasada, elimínala y justifica por qué quitaste o no variables."
   ]
  },
  {
   "cell_type": "code",
   "execution_count": null,
   "id": "3d68bf75",
   "metadata": {},
   "outputs": [],
   "source": []
  },
  {
   "cell_type": "markdown",
   "id": "365d6007",
   "metadata": {},
   "source": [
    "## 3. Determina un valor de k."
   ]
  },
  {
   "cell_type": "code",
   "execution_count": null,
   "id": "5953eff2",
   "metadata": {},
   "outputs": [],
   "source": []
  },
  {
   "cell_type": "markdown",
   "id": "2bdf2f8b",
   "metadata": {},
   "source": [
    "## 4. Utilizando scikitlearn calcula los centros del algoritmo k-means."
   ]
  },
  {
   "cell_type": "code",
   "execution_count": null,
   "id": "992f55cf",
   "metadata": {},
   "outputs": [],
   "source": []
  },
  {
   "cell_type": "markdown",
   "id": "2e02a2ed",
   "metadata": {},
   "source": [
    "## Basado en los centros responde las siguientes preguntas:"
   ]
  },
  {
   "cell_type": "markdown",
   "id": "a04bb9ee",
   "metadata": {},
   "source": [
    "* ¿Crees que estos centros puedan ser representativos de los datos? ¿Por qué?\n",
    "\n",
    "\n",
    "\n",
    "* ¿Cómo obtuviste el valor de k a usar?\n",
    "\n",
    "\n",
    "\n",
    "* ¿Los centros serían más representativos si usaras un valor más alto? ¿Más bajo?\n",
    "\n",
    "\n",
    "\n",
    "* ¿Qué distancia tienen los centros entre sí? ¿Hay alguno que esté muy cercano a otros?\n",
    "\n",
    "\n",
    "\n",
    "* ¿Qué pasaría con los centros si tuviéramos muchos outliers en el análisis de cajas y bigotes?\n",
    "\n",
    "\n",
    "\n",
    "* ¿Qué puedes decir de los datos basándose en los centros?\n",
    "\n",
    "\n"
   ]
  }
 ],
 "metadata": {
  "kernelspec": {
   "display_name": "Python 3 (ipykernel)",
   "language": "python",
   "name": "python3"
  },
  "language_info": {
   "codemirror_mode": {
    "name": "ipython",
    "version": 3
   },
   "file_extension": ".py",
   "mimetype": "text/x-python",
   "name": "python",
   "nbconvert_exporter": "python",
   "pygments_lexer": "ipython3",
   "version": "3.9.12"
  }
 },
 "nbformat": 4,
 "nbformat_minor": 5
}
