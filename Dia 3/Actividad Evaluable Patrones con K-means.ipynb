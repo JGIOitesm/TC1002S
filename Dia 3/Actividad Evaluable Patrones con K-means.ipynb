{
 "cells": [
  {
   "cell_type": "markdown",
   "id": "af26ec92",
   "metadata": {},
   "source": [
    "### Jorge Gerardo Iglesias Ortiz - A01653261\n",
    "### Alejandro Hernández De la Torre - A01651516\n",
    "### Santiago Orozco Quintero - A01658308\n",
    "### Carlos Andres Barredeaz Rios - A01653183\n",
    "### Jorge Yepez Frutos - A01652661"
   ]
  },
  {
   "cell_type": "markdown",
   "id": "52b08efb",
   "metadata": {},
   "source": [
    "# Actividad Evaluable Patrones con K-means"
   ]
  },
  {
   "cell_type": "markdown",
   "id": "e62e4c62",
   "metadata": {},
   "source": [
    "## 1. Carga tus datos."
   ]
  },
  {
   "cell_type": "markdown",
   "id": "198c90a4",
   "metadata": {},
   "source": [
    "## 2. Si determinas que alguna variable no sirve basándose en la actividad pasada, elimínala y justifica por qué quitaste o no variables."
   ]
  },
  {
   "cell_type": "markdown",
   "id": "ef4e9ea1",
   "metadata": {},
   "source": [
    "## 3. Determina un valor de k."
   ]
  },
  {
   "cell_type": "markdown",
   "id": "b48628bf",
   "metadata": {},
   "source": [
    "## 4. Utilizando scikitlearn calcula los centros del algoritmo k-means."
   ]
  },
  {
   "cell_type": "markdown",
   "id": "4b2173e5",
   "metadata": {},
   "source": [
    "Basado en los centros responde las siguientes preguntas:\n",
    "¿Crees que estos centros puedan ser representativos de los datos? ¿Por qué?\n",
    "¿Cómo obtuviste el valor de k a usar?\n",
    "¿Los centros serían más representativos si usaras un valor más alto? ¿Más bajo?\n",
    "¿Qué distancia tienen los centros entre sí? ¿Hay alguno que esté muy cercano a otros?\n",
    "¿Qué pasaría con los centros si tuviéramos muchos outliers en el análisis de cajas y bigotes?\n",
    "¿Qué puedes decir de los datos basándose en los centros?"
   ]
  },
  {
   "cell_type": "code",
   "execution_count": null,
   "id": "4fd3caf0",
   "metadata": {},
   "outputs": [],
   "source": []
  }
 ],
 "metadata": {
  "kernelspec": {
   "display_name": "Python 3 (ipykernel)",
   "language": "python",
   "name": "python3"
  },
  "language_info": {
   "codemirror_mode": {
    "name": "ipython",
    "version": 3
   },
   "file_extension": ".py",
   "mimetype": "text/x-python",
   "name": "python",
   "nbconvert_exporter": "python",
   "pygments_lexer": "ipython3",
   "version": "3.9.12"
  }
 },
 "nbformat": 4,
 "nbformat_minor": 5
}
